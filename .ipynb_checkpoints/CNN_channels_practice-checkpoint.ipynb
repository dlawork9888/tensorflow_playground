{
 "cells": [
  {
   "cell_type": "markdown",
   "id": "02cbb945-826a-4128-8c2e-a2295849ee8f",
   "metadata": {},
   "source": [
    "# N차원 채널을 가지는 (len,12,1200,N) input으로 CNN "
   ]
  },
  {
   "cell_type": "markdown",
   "id": "32493871-823e-4153-9e14-6b5534d8bceb",
   "metadata": {},
   "source": [
    "### (300, 12, 1200, 5) 데이터 생성"
   ]
  },
  {
   "cell_type": "code",
   "execution_count": 1,
   "id": "afad65ac-3dda-4029-9f2c-57a0f87d20f6",
   "metadata": {},
   "outputs": [],
   "source": [
    "import tensorflow as tf\n",
    "import numpy as np\n",
    "import matplotlib.pyplot as plt"
   ]
  },
  {
   "cell_type": "code",
   "execution_count": 2,
   "id": "b6ffdc74-c8d5-4fa8-b11b-05e5c4b320bf",
   "metadata": {},
   "outputs": [],
   "source": [
    "# 0 => 0.0 ~ 0.3\n",
    "# 1 => 0.3 ~ 0.6\n",
    "# 2 => 0.6 ~ 0.9\n",
    "np.random.seed(0)\n",
    "\n",
    "data_0 = np.random.uniform(0.0, 0.4, size = (100,12,1200,5))\n",
    "data_1 = np.random.uniform(0.4, 0.7, size = (100,12,1200,5))\n",
    "data_2 = np.random.uniform(0.7, 1.0, size = (100,12,1200,5))\n",
    "labels_0 = np.full((data_0.shape[0],),0)\n",
    "labels_1 = np.full((data_1.shape[0],),1)\n",
    "labels_2 = np.full((data_2.shape[0],),2)\n",
    "\n",
    "data = np.concatenate((data_0, data_1, data_2), axis = 0)\n",
    "labels = np.concatenate((labels_0, labels_1, labels_2), axis = 0)"
   ]
  },
  {
   "cell_type": "code",
   "execution_count": 3,
   "id": "82a1292b-09b4-4a2d-b4e8-e786d31fd347",
   "metadata": {},
   "outputs": [
    {
     "name": "stdout",
     "output_type": "stream",
     "text": [
      "data shape : (300, 12, 1200, 5)\n",
      "데이터 포인트 수 300\n",
      "데이터 포인트의 높이 12\n",
      "데이터 포인트의 너비 1200\n",
      "데이터 포인트의 채널 5\n",
      "labels shape : (300,)\n"
     ]
    }
   ],
   "source": [
    "print(f'data shape : {data.shape}')\n",
    "print(f'데이터 포인트 수 {data.shape[0]}\\n데이터 포인트의 높이 {data.shape[1]}\\n데이터 포인트의 너비 {data.shape[2]}\\n데이터 포인트의 채널 {data.shape[3]}')\n",
    "print(f'labels shape : {labels.shape}')"
   ]
  },
  {
   "cell_type": "code",
   "execution_count": 23,
   "id": "f1829f08-3c4e-4084-85d9-9177de9a64b8",
   "metadata": {},
   "outputs": [
    {
     "name": "stdout",
     "output_type": "stream",
     "text": [
      "Model: \"sequential_12\"\n",
      "_________________________________________________________________\n",
      " Layer (type)                Output Shape              Param #   \n",
      "=================================================================\n",
      " conv2d_13 (Conv2D)          (None, 1, 1200, 32)       1952      \n",
      "                                                                 \n",
      " max_pooling2d_12 (MaxPoolin  (None, 1, 120, 32)       0         \n",
      " g2D)                                                            \n",
      "                                                                 \n",
      " conv2d_14 (Conv2D)          (None, 1, 111, 64)        20544     \n",
      "                                                                 \n",
      " max_pooling2d_13 (MaxPoolin  (None, 1, 11, 64)        0         \n",
      " g2D)                                                            \n",
      "                                                                 \n",
      " flatten_12 (Flatten)        (None, 704)               0         \n",
      "                                                                 \n",
      " dense_36 (Dense)            (None, 64)                45120     \n",
      "                                                                 \n",
      " dense_37 (Dense)            (None, 10)                650       \n",
      "                                                                 \n",
      " dense_38 (Dense)            (None, 3)                 33        \n",
      "                                                                 \n",
      "=================================================================\n",
      "Total params: 68,299\n",
      "Trainable params: 68,299\n",
      "Non-trainable params: 0\n",
      "_________________________________________________________________\n"
     ]
    }
   ],
   "source": [
    "model = tf.keras.Sequential([\n",
    "    tf.keras.layers.Conv2D(32, (12, 1), activation='relu', input_shape=(12, 1200, 5)),\n",
    "    tf.keras.layers.MaxPooling2D((1, 10)),\n",
    "    tf.keras.layers.Conv2D(64, (1, 10), activation='relu'),\n",
    "    tf.keras.layers.MaxPooling2D((1, 10)),\n",
    "    tf.keras.layers.Flatten(),\n",
    "    tf.keras.layers.Dense(64, activation='relu'),\n",
    "    tf.keras.layers.Dense(10, activation='sigmoid'),\n",
    "    tf.keras.layers.Dense(3, activation='softmax')\n",
    "])\n",
    "\n",
    "model.compile(optimizer='adam',\n",
    "              loss='sparse_categorical_crossentropy',\n",
    "              metrics=['accuracy'])\n",
    "\n",
    "model.summary()"
   ]
  },
  {
   "cell_type": "code",
   "execution_count": 24,
   "id": "8bb9b947-5548-4e57-8d1b-5c28c165f0fd",
   "metadata": {},
   "outputs": [
    {
     "name": "stdout",
     "output_type": "stream",
     "text": [
      "Epoch 1/5\n",
      "10/10 [==============================] - 1s 33ms/step - loss: 1.1063 - accuracy: 0.3700\n",
      "Epoch 2/5\n",
      "10/10 [==============================] - 0s 32ms/step - loss: 0.7843 - accuracy: 0.8633\n",
      "Epoch 3/5\n",
      "10/10 [==============================] - 0s 30ms/step - loss: 0.5308 - accuracy: 1.0000\n",
      "Epoch 4/5\n",
      "10/10 [==============================] - 0s 30ms/step - loss: 0.4151 - accuracy: 1.0000\n",
      "Epoch 5/5\n",
      "10/10 [==============================] - 1s 62ms/step - loss: 0.3781 - accuracy: 1.0000\n"
     ]
    },
    {
     "data": {
      "text/plain": [
       "<keras.callbacks.History at 0x29e02f678b0>"
      ]
     },
     "execution_count": 24,
     "metadata": {},
     "output_type": "execute_result"
    }
   ],
   "source": [
    "model.fit(data, labels, epochs = 5, batch_size = 32)"
   ]
  },
  {
   "cell_type": "markdown",
   "id": "c94b649a-9103-4f7d-ad14-021fef023ca3",
   "metadata": {},
   "source": [
    "### 새로운 데이터 생성하고 넣어서 결과 확인하기"
   ]
  },
  {
   "cell_type": "code",
   "execution_count": 25,
   "id": "45e5a6e9-aa8e-4345-89f8-c1c4d95bd88c",
   "metadata": {},
   "outputs": [
    {
     "name": "stdout",
     "output_type": "stream",
     "text": [
      "1/1 [==============================] - 0s 97ms/step\n",
      "[[0.1660752 0.6468856 0.1870392]]\n"
     ]
    }
   ],
   "source": [
    "new_data = np.random.uniform(0.4, 0.7, size = (1,12,1200,5))\n",
    "\n",
    "prediction = model.predict(new_data)\n",
    "print(prediction)"
   ]
  },
  {
   "cell_type": "markdown",
   "id": "a6944c8e-3d18-4f1f-97a2-c424d3caa08d",
   "metadata": {},
   "source": [
    "### 파악했다 CNN!!"
   ]
  },
  {
   "cell_type": "code",
   "execution_count": null,
   "id": "6de6c26d-0f90-402f-980e-6441a0308ba1",
   "metadata": {},
   "outputs": [],
   "source": []
  }
 ],
 "metadata": {
  "kernelspec": {
   "display_name": "Python 3 (ipykernel)",
   "language": "python",
   "name": "python3"
  },
  "language_info": {
   "codemirror_mode": {
    "name": "ipython",
    "version": 3
   },
   "file_extension": ".py",
   "mimetype": "text/x-python",
   "name": "python",
   "nbconvert_exporter": "python",
   "pygments_lexer": "ipython3",
   "version": "3.9.16"
  }
 },
 "nbformat": 4,
 "nbformat_minor": 5
}
