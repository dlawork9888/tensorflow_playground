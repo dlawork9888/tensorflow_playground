{
  "nbformat": 4,
  "nbformat_minor": 0,
  "metadata": {
    "colab": {
      "provenance": [],
      "authorship_tag": "ABX9TyPKsF6KDgChtzYhU+eFxiih",
      "include_colab_link": true
    },
    "kernelspec": {
      "name": "python3",
      "display_name": "Python 3"
    },
    "language_info": {
      "name": "python"
    }
  },
  "cells": [
    {
      "cell_type": "markdown",
      "metadata": {
        "id": "view-in-github",
        "colab_type": "text"
      },
      "source": [
        "<a href=\"https://colab.research.google.com/github/dlawork9888/tensorflow_playground/blob/main/DynamicSequenceInputProcessTutorial.ipynb\" target=\"_parent\"><img src=\"https://colab.research.google.com/assets/colab-badge.svg\" alt=\"Open In Colab\"/></a>"
      ]
    },
    {
      "cell_type": "markdown",
      "source": [
        "# Ragged Tensor\n",
        "- 비정형 텐서\n",
        "- 다루기 꽤나 까다롭다"
      ],
      "metadata": {
        "id": "htNonxS_68Kv"
      }
    },
    {
      "cell_type": "code",
      "source": [
        "import tensorflow as tf\n",
        "import numpy as np\n",
        "\n",
        "digits = tf.ragged.constant([[3, 1, 4, 1], [], [5, 9, 2], [6], []])\n",
        "words = tf.ragged.constant([[\"So\", \"long\"], [\"thanks\", \"for\", \"all\", \"the\", \"fish\"]])\n",
        "print(tf.add(digits, 3))\n",
        "print(tf.reduce_mean(digits, axis=1))\n",
        "print(tf.concat([digits, [[5, 3]]], axis=0))\n",
        "print(tf.tile(digits, [1, 2]))\n",
        "print(tf.strings.substr(words, 0, 2))\n",
        "print(tf.map_fn(tf.math.square, digits))\n",
        "\n",
        "\n",
        "# tf.ragged.constant가 [길이가 다 다른 리스트들]을 비정형텐서로 바꾸는 메인인 것 같다.\n",
        "# 하지만 느린 것 같았어 ."
      ],
      "metadata": {
        "colab": {
          "base_uri": "https://localhost:8080/"
        },
        "id": "l1B3GWjc6PDh",
        "outputId": "467c12d6-1959-458a-b815-a90217e90baa"
      },
      "execution_count": null,
      "outputs": [
        {
          "output_type": "stream",
          "name": "stdout",
          "text": [
            "<tf.RaggedTensor [[6, 4, 7, 4], [], [8, 12, 5], [9], []]>\n",
            "tf.Tensor([2.25              nan 5.33333333 6.                nan], shape=(5,), dtype=float64)\n",
            "<tf.RaggedTensor [[3, 1, 4, 1], [], [5, 9, 2], [6], [], [5, 3]]>\n",
            "<tf.RaggedTensor [[3, 1, 4, 1, 3, 1, 4, 1], [], [5, 9, 2, 5, 9, 2], [6, 6], []]>\n",
            "<tf.RaggedTensor [[b'So', b'lo'], [b'th', b'fo', b'al', b'th', b'fi']]>\n",
            "<tf.RaggedTensor [[9, 1, 16, 1], [], [25, 81, 4], [36], []]>\n"
          ]
        }
      ]
    },
    {
      "cell_type": "code",
      "source": [
        "# ragged.constant 실험\n",
        "\n",
        "# 가변 크기의 이차원 비정형 텐서도 만들 수 있을까?\n",
        "temp = []\n",
        "for _ in range(1000):\n",
        "  axis0 = np.random.randint(0,100)\n",
        "  axis1 = np.random.randint(0,100)\n",
        "  arr = np.random.randint(1,10,size = (axis0, axis1))\n",
        "  temp.append(arr)\n",
        "\n",
        "print(f'temp[0]:{temp[0]}')\n",
        "\n",
        "temp_ragged_tensor = tf.ragged.constant(temp)\n",
        "\n",
        "print(f\"temp_ragged_tensor: {temp_ragged_tensor.shape}\")\n",
        "\n",
        "### 만들수 있다 !\n",
        "### int (1000, 최대100, 최대100) 만드는데 10초 정도"
      ],
      "metadata": {
        "colab": {
          "base_uri": "https://localhost:8080/"
        },
        "id": "u44lUNaQ7vfI",
        "outputId": "848f4cc1-3380-4a66-bcad-1b0ea726473c"
      },
      "execution_count": null,
      "outputs": [
        {
          "output_type": "stream",
          "name": "stdout",
          "text": [
            "temp[0]:[[1 4 6 ... 6 8 1]\n",
            " [7 5 9 ... 8 1 7]\n",
            " [2 4 8 ... 9 5 2]\n",
            " ...\n",
            " [2 8 9 ... 5 6 3]\n",
            " [9 4 6 ... 3 3 3]\n",
            " [9 2 9 ... 5 5 6]]\n",
            "temp_ragged_tensor: (1000, None, None)\n"
          ]
        }
      ]
    },
    {
      "cell_type": "markdown",
      "source": [
        "# Dynamic Sequence Input Process Tutorial\n",
        "- 수열을 구별하는 신경망을 만들어보자\n",
        "- 수열 => 시퀀스\n",
        "- 수열은 두 종류, 하나는 diff가 홀수, 하나는 diff가 짝수"
      ],
      "metadata": {
        "id": "nsXngQbjxzlE"
      }
    },
    {
      "cell_type": "code",
      "source": [
        "### 쉬운 예제부터\n",
        "\n",
        "# 수열 예제 생성\n",
        "# diff는 1 ~ 10\n",
        "# 시작은 0 ~ 100\n",
        "# 길이는 512 ~ 1024\n",
        "# 각 수열은 1000개 씩\n",
        "\n",
        "import tensorflow as tf\n",
        "import numpy as np\n",
        "\n",
        "### 넘파이는 비정형 배열(ex. shape = (100,None,None))을 다룰 수가 없다 !\n",
        "#\n",
        "sample_size = 1000\n",
        "\n",
        "# 홀수 공차 등차수열 생성\n",
        "odds_set = []\n",
        "odds_row_lengths = [] #\n",
        "for _ in range(sample_size):\n",
        "  difference = np.random.randint(1,10) * 2 - 1\n",
        "  start = np.random.randint(1, 100)\n",
        "  seq_len = np.random.randint(512, 1024)\n",
        "  seq = np.array([start + difference * x for x in range(seq_len)])\n",
        "  odds_set.append(seq)\n",
        "  odds_row_lengths.append(seq_len) #\n",
        "\n",
        "# 짝수 공차 등차수열 생성\n",
        "evens_set = []\n",
        "evens_row_lengths = [] #\n",
        "for _ in range(sample_size):\n",
        "  difference = np.random.randint(1,10) * 2\n",
        "  start = np.random.randint(1, 100)\n",
        "  seq_len = np.random.randint(512, 1024)\n",
        "  seq = np.array([start + difference * x for x in range(seq_len)])\n",
        "  evens_set.append(seq)\n",
        "  evens_row_lengths.append(seq_len) #\n",
        "\n",
        "# 레이블 생성\n",
        "odds_label = np.full((sample_size, ), 1,dtype=int)\n",
        "evens_label = np.full((sample_size, ), 0,dtype=int)\n",
        "\n",
        "# regged 로 변경\n",
        "odds_set_ragged = tf.ragged.constant(odds_set)\n",
        "evens_set_ragged = tf.ragged.constant(evens_set)\n",
        "\n",
        "# concat\n",
        "data = tf.concat([odds_set_ragged, evens_set_ragged], axis = 0)\n",
        "labels = np.concatenate([odds_label, evens_label], axis = 0)\n",
        "print(f'data.shape: {data.shape}')\n",
        "print(f'data.shape[0]: {data.shape[0]}')\n",
        "\n",
        "\n",
        "# Dataset 생성\n",
        "dataset = tf.data.Dataset.from_tensor_slices((data, labels))\n",
        "\n",
        "# dataset 셔플\n",
        "dataset = dataset.shuffle(buffer_size=len(dataset))\n",
        "\n",
        "# dataset 확인\n",
        "for datapoint in dataset.take(5):\n",
        "  seq, label = datapoint\n",
        "  print('-----------------------------------')\n",
        "  print(f'seq len: {len(seq)}')\n",
        "  print(f'label: {label}')\n",
        "  print('-----------------------------------')\n",
        "\n",
        "# 트 발 테 분리\n",
        "# 데이터셋 크기 확인 및 나누기\n",
        "dataset_size = tf.data.experimental.cardinality(dataset).numpy()  # 사이즈 가져오기 ! (shape속성이 존재하지 않음)\n",
        "print(f'dataset_size: {dataset_size}')\n",
        "train_size = int(0.8 * dataset_size)\n",
        "val_size = int(0.1 * dataset_size)\n",
        "test_size = dataset_size - train_size - val_size\n",
        "\n",
        "train_dataset = dataset.take(train_size)\n",
        "remaining = dataset.skip(train_size)\n",
        "val_dataset = remaining.take(val_size)\n",
        "test_dataset = remaining.skip(val_size)\n",
        "\n",
        "# 배치 처리\n",
        "batch_size = 16\n",
        "train_dataset = train_dataset.batch(batch_size)\n",
        "val_dataset = val_dataset.batch(batch_size)\n",
        "test_dataset = test_dataset.batch(batch_size)"
      ],
      "metadata": {
        "colab": {
          "base_uri": "https://localhost:8080/"
        },
        "id": "B1xlO0vb2yeh",
        "outputId": "fbb410be-3661-47e3-c228-f75d33d4f0fd"
      },
      "execution_count": 1,
      "outputs": [
        {
          "output_type": "stream",
          "name": "stdout",
          "text": [
            "data.shape: (2000, None)\n",
            "data.shape[0]: 2000\n",
            "-----------------------------------\n",
            "seq len: 850\n",
            "label: 0\n",
            "-----------------------------------\n",
            "-----------------------------------\n",
            "seq len: 806\n",
            "label: 0\n",
            "-----------------------------------\n",
            "-----------------------------------\n",
            "seq len: 693\n",
            "label: 1\n",
            "-----------------------------------\n",
            "-----------------------------------\n",
            "seq len: 723\n",
            "label: 1\n",
            "-----------------------------------\n",
            "-----------------------------------\n",
            "seq len: 514\n",
            "label: 1\n",
            "-----------------------------------\n",
            "dataset_size: 2000\n"
          ]
        }
      ]
    },
    {
      "cell_type": "code",
      "source": [
        "from tensorflow.keras.layers import Embedding, LSTM, Dense\n",
        "from tensorflow.keras.models import Model\n",
        "from tensorflow.keras.layers import Input\n",
        "import numpy as np\n",
        "\n",
        "# RaggedTensor 입력을 처리하는 모델 생성\n",
        "input_ragged = Input(shape=(None,), dtype=tf.int32, ragged=True)\n",
        "embedding = Embedding(input_dim=20000, output_dim=64)(input_ragged)\n",
        "lstm = LSTM(64)(embedding)\n",
        "output = Dense(1, activation='sigmoid')(lstm)\n",
        "\n",
        "model = Model(inputs=input_ragged, outputs=output)\n",
        "\n",
        "# 모델 컴파일\n",
        "model.compile(optimizer='adam', loss='binary_crossentropy', metrics=['accuracy'])\n",
        "\n",
        "# 모델 요약 출력\n",
        "model.summary()"
      ],
      "metadata": {
        "colab": {
          "base_uri": "https://localhost:8080/"
        },
        "id": "J-BGIgGt7gn2",
        "outputId": "35472441-4bf3-4086-d1a5-0290d9d4be57"
      },
      "execution_count": 2,
      "outputs": [
        {
          "output_type": "stream",
          "name": "stdout",
          "text": [
            "Model: \"model\"\n",
            "_________________________________________________________________\n",
            " Layer (type)                Output Shape              Param #   \n",
            "=================================================================\n",
            " input_1 (InputLayer)        [(None, None)]            0         \n",
            "                                                                 \n",
            " embedding (Embedding)       (None, None, 64)          1280000   \n",
            "                                                                 \n",
            " lstm (LSTM)                 (None, 64)                33024     \n",
            "                                                                 \n",
            " dense (Dense)               (None, 1)                 65        \n",
            "                                                                 \n",
            "=================================================================\n",
            "Total params: 1313089 (5.01 MB)\n",
            "Trainable params: 1313089 (5.01 MB)\n",
            "Non-trainable params: 0 (0.00 Byte)\n",
            "_________________________________________________________________\n"
          ]
        }
      ]
    },
    {
      "cell_type": "code",
      "source": [
        "model.fit(train_dataset, epochs=10)"
      ],
      "metadata": {
        "colab": {
          "base_uri": "https://localhost:8080/"
        },
        "id": "NHgU5hihjPC7",
        "outputId": "d62145f2-b9a2-4002-cce1-8ecd806d699a"
      },
      "execution_count": 3,
      "outputs": [
        {
          "output_type": "stream",
          "name": "stdout",
          "text": [
            "Epoch 1/10\n",
            "100/100 [==============================] - 72s 613ms/step - loss: 0.6892 - accuracy: 0.5238\n",
            "Epoch 2/10\n",
            "100/100 [==============================] - 64s 638ms/step - loss: 0.5453 - accuracy: 0.7575\n",
            "Epoch 3/10\n",
            "100/100 [==============================] - 67s 660ms/step - loss: 0.2413 - accuracy: 0.9181\n",
            "Epoch 4/10\n",
            "100/100 [==============================] - 61s 615ms/step - loss: 0.0927 - accuracy: 0.9700\n",
            "Epoch 5/10\n",
            "100/100 [==============================] - 63s 630ms/step - loss: 0.0407 - accuracy: 0.9912\n",
            "Epoch 6/10\n",
            "100/100 [==============================] - 60s 598ms/step - loss: 0.0190 - accuracy: 0.9950\n",
            "Epoch 7/10\n",
            "100/100 [==============================] - 61s 614ms/step - loss: 0.0105 - accuracy: 0.9969\n",
            "Epoch 8/10\n",
            "100/100 [==============================] - 62s 623ms/step - loss: 0.0075 - accuracy: 0.9975\n",
            "Epoch 9/10\n",
            "100/100 [==============================] - 60s 605ms/step - loss: 0.0040 - accuracy: 0.9987\n",
            "Epoch 10/10\n",
            "100/100 [==============================] - 61s 613ms/step - loss: 0.0011 - accuracy: 1.0000\n"
          ]
        },
        {
          "output_type": "execute_result",
          "data": {
            "text/plain": [
              "<keras.src.callbacks.History at 0x79b9146e0850>"
            ]
          },
          "metadata": {},
          "execution_count": 3
        }
      ]
    }
  ]
}