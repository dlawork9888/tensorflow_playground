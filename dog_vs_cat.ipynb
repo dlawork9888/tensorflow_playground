{
 "cells": [
  {
   "cell_type": "markdown",
   "id": "81b67b07-0244-4b11-b525-33d60963b0c3",
   "metadata": {},
   "source": [
    "# 개고양이 분류 모델 구축 예제"
   ]
  },
  {
   "cell_type": "markdown",
   "id": "9c12aa14-900c-438d-8076-a0d43b86fcab",
   "metadata": {},
   "source": [
    "## 데이터셋 생성"
   ]
  },
  {
   "cell_type": "code",
   "execution_count": 1,
   "id": "19bb01ef-1277-420e-a927-2ee77c90bfd6",
   "metadata": {},
   "outputs": [
    {
     "name": "stdout",
     "output_type": "stream",
     "text": [
      "images.shape: (400, 128, 128, 3)\n",
      "labels.shape: (400,)\n"
     ]
    }
   ],
   "source": [
    "\n",
    "import os\n",
    "import numpy as np\n",
    "import cv2\n",
    "\n",
    "images = []\n",
    "labels = []\n",
    "for image_file_name in os.listdir('dog_cat_images'):\n",
    "    if image_file_name == '.ipynb_checkpoints': # ignore .ipynb_checkpoints \n",
    "        continue \n",
    "    image_path = os.path.join('dog_cat_images', image_file_name)\n",
    "    #print(f'image_path: {image_path}')\n",
    "    img = cv2.imread(image_path)\n",
    "    img = cv2.resize(img, (128, 128))\n",
    "    images.append(img)\n",
    "    if image_file_name[:3] == 'dog':\n",
    "        #print(f'label: {0}')\n",
    "        labels.append(0)\n",
    "    else:\n",
    "        #print(f'label: {1}')\n",
    "        labels.append(1)\n",
    "images = np.array(images)\n",
    "labels = np.array(labels)\n",
    "print(f'images.shape: {images.shape}')\n",
    "print(f'labels.shape: {labels.shape}')"
   ]
  },
  {
   "cell_type": "markdown",
   "id": "e2a92c0b-e5fc-4cf7-9d41-637612894c7b",
   "metadata": {},
   "source": [
    "## train-test-split"
   ]
  },
  {
   "cell_type": "code",
   "execution_count": 2,
   "id": "bc5d2b1f-6a87-46fb-9b8f-85c071326f0f",
   "metadata": {},
   "outputs": [],
   "source": [
    "from sklearn.model_selection import train_test_split\n",
    "\n",
    "# train-test\n",
    "X_train, X_test, y_train, y_test = train_test_split(images, labels, test_size=0.2, shuffle=True)\n",
    "# validation-test\n",
    "X_test, X_val, y_test, y_val = train_test_split(X_test, y_test, test_size=0.5, shuffle=True)"
   ]
  },
  {
   "cell_type": "markdown",
   "id": "4b2b69fb-634f-47d6-8e8d-e0e4524c3e32",
   "metadata": {},
   "source": [
    "## CNN Model"
   ]
  },
  {
   "cell_type": "code",
   "execution_count": 5,
   "id": "f00f3393-52b3-43c5-be9f-516eab1e60d7",
   "metadata": {},
   "outputs": [
    {
     "name": "stdout",
     "output_type": "stream",
     "text": [
      "Model: \"sequential_1\"\n",
      "_________________________________________________________________\n",
      " Layer (type)                Output Shape              Param #   \n",
      "=================================================================\n",
      " conv2d_3 (Conv2D)           (None, 126, 126, 32)      896       \n",
      "                                                                 \n",
      " max_pooling2d_3 (MaxPoolin  (None, 63, 63, 32)        0         \n",
      " g2D)                                                            \n",
      "                                                                 \n",
      " conv2d_4 (Conv2D)           (None, 61, 61, 64)        18496     \n",
      "                                                                 \n",
      " max_pooling2d_4 (MaxPoolin  (None, 30, 30, 64)        0         \n",
      " g2D)                                                            \n",
      "                                                                 \n",
      " conv2d_5 (Conv2D)           (None, 28, 28, 128)       73856     \n",
      "                                                                 \n",
      " max_pooling2d_5 (MaxPoolin  (None, 14, 14, 128)       0         \n",
      " g2D)                                                            \n",
      "                                                                 \n",
      " flatten_1 (Flatten)         (None, 25088)             0         \n",
      "                                                                 \n",
      " dense_3 (Dense)             (None, 32)                802848    \n",
      "                                                                 \n",
      " dense_4 (Dense)             (None, 16)                528       \n",
      "                                                                 \n",
      " dense_5 (Dense)             (None, 1)                 17        \n",
      "                                                                 \n",
      "=================================================================\n",
      "Total params: 896641 (3.42 MB)\n",
      "Trainable params: 896641 (3.42 MB)\n",
      "Non-trainable params: 0 (0.00 Byte)\n",
      "_________________________________________________________________\n"
     ]
    }
   ],
   "source": [
    "# input => (128,128,3)\n",
    "\n",
    "# conv2D\n",
    "# maxpool2D\n",
    "# Conv2D\n",
    "# MaxPool2D\n",
    "# Conv2D\n",
    "# MaxPool2D\n",
    "# Flatten\n",
    "# Dense\n",
    "# Dense\n",
    "# Dense => node 1개, Sigmoid\n",
    "\n",
    "# Loss Func → Binary Crossentropy\n",
    "\n",
    "import tensorflow as tf\n",
    "model = tf.keras.Sequential([\n",
    "    tf.keras.layers.Conv2D(32, (3,3), activation='relu', input_shape=(128, 128, 3)),\n",
    "    tf.keras.layers.MaxPooling2D((2, 2)),\n",
    "    tf.keras.layers.Conv2D(64, (3, 3), activation='relu'),\n",
    "    tf.keras.layers.MaxPooling2D((2, 2)),\n",
    "    tf.keras.layers.Conv2D(128, (3, 3), activation='relu'),\n",
    "    tf.keras.layers.MaxPooling2D((2, 2)),\n",
    "    tf.keras.layers.Flatten(),\n",
    "    tf.keras.layers.Dense(32, activation='relu'),\n",
    "    tf.keras.layers.Dense(16, activation='relu'),\n",
    "    tf.keras.layers.Dense(1, activation='sigmoid')\n",
    "])\n",
    "\n",
    "model.compile(optimizer='adam',\n",
    "              loss='binary_crossentropy',\n",
    "              metrics=['accuracy'])\n",
    "\n",
    "model.summary()"
   ]
  },
  {
   "cell_type": "code",
   "execution_count": 6,
   "id": "6f5d3f3b-8442-4e7f-a11f-76735ac5e9ec",
   "metadata": {},
   "outputs": [
    {
     "name": "stdout",
     "output_type": "stream",
     "text": [
      "Epoch 1/10\n",
      "10/10 [==============================] - 2s 157ms/step - loss: 12.2506 - accuracy: 0.5250\n",
      "Epoch 2/10\n",
      "10/10 [==============================] - 2s 158ms/step - loss: 0.6728 - accuracy: 0.5813\n",
      "Epoch 3/10\n",
      "10/10 [==============================] - 2s 158ms/step - loss: 0.4535 - accuracy: 0.8031\n",
      "Epoch 4/10\n",
      "10/10 [==============================] - 2s 155ms/step - loss: 0.2755 - accuracy: 0.9344\n",
      "Epoch 5/10\n",
      "10/10 [==============================] - 2s 157ms/step - loss: 0.1812 - accuracy: 0.9438\n",
      "Epoch 6/10\n",
      "10/10 [==============================] - 2s 160ms/step - loss: 0.1269 - accuracy: 0.9594\n",
      "Epoch 7/10\n",
      "10/10 [==============================] - 2s 159ms/step - loss: 0.0728 - accuracy: 0.9969\n",
      "Epoch 8/10\n",
      "10/10 [==============================] - 2s 163ms/step - loss: 0.0391 - accuracy: 0.9969\n",
      "Epoch 9/10\n",
      "10/10 [==============================] - 2s 169ms/step - loss: 0.0274 - accuracy: 0.9969\n",
      "Epoch 10/10\n",
      "10/10 [==============================] - 2s 165ms/step - loss: 0.0120 - accuracy: 1.0000\n"
     ]
    },
    {
     "data": {
      "text/plain": [
       "<keras.src.callbacks.History at 0x278af008670>"
      ]
     },
     "execution_count": 6,
     "metadata": {},
     "output_type": "execute_result"
    }
   ],
   "source": [
    "model.fit(X_train, y_train, epochs = 10, batch_size = 32)"
   ]
  },
  {
   "cell_type": "code",
   "execution_count": 7,
   "id": "34efaa76-9960-4f28-9cad-7fe1945eb1d7",
   "metadata": {},
   "outputs": [
    {
     "name": "stdout",
     "output_type": "stream",
     "text": [
      "3/3 - 0s - loss: 1.7171 - accuracy: 0.6375 - 331ms/epoch - 110ms/step\n",
      "\n",
      "Test accuracy: 0.637499988079071, Test loss: 1.7170813083648682\n"
     ]
    }
   ],
   "source": [
    "# 모델 테스트\n",
    "test_loss, test_acc = model.evaluate(X_test, y_test, verbose=2)\n",
    "\n",
    "print(f'\\nTest accuracy: {test_acc}, Test loss: {test_loss}')"
   ]
  },
  {
   "cell_type": "markdown",
   "id": "c423dec7-24dc-4a5c-b5f5-09b3776a0b09",
   "metadata": {},
   "source": [
    "# Hyperparams Tuning - Bayesian Opt !"
   ]
  },
  {
   "cell_type": "code",
   "execution_count": 4,
   "id": "3e6504b6-0c96-4fc3-b251-9f4a958be181",
   "metadata": {},
   "outputs": [
    {
     "name": "stdout",
     "output_type": "stream",
     "text": [
      "Trial 10 Complete [00h 00m 46s]\n",
      "val_accuracy: 0.6000000238418579\n",
      "\n",
      "Best val_accuracy So Far: 0.7250000238418579\n",
      "Total elapsed time: 00h 15m 14s\n",
      "Model: \"sequential_1\"\n",
      "_________________________________________________________________\n",
      " Layer (type)                Output Shape              Param #   \n",
      "=================================================================\n",
      " conv2d_3 (Conv2D)           (None, 126, 126, 128)     3584      \n",
      "                                                                 \n",
      " max_pooling2d_3 (MaxPoolin  (None, 63, 63, 128)       0         \n",
      " g2D)                                                            \n",
      "                                                                 \n",
      " conv2d_4 (Conv2D)           (None, 61, 61, 224)       258272    \n",
      "                                                                 \n",
      " max_pooling2d_4 (MaxPoolin  (None, 30, 30, 224)       0         \n",
      " g2D)                                                            \n",
      "                                                                 \n",
      " conv2d_5 (Conv2D)           (None, 28, 28, 224)       451808    \n",
      "                                                                 \n",
      " max_pooling2d_5 (MaxPoolin  (None, 14, 14, 224)       0         \n",
      " g2D)                                                            \n",
      "                                                                 \n",
      " flatten_1 (Flatten)         (None, 43904)             0         \n",
      "                                                                 \n",
      " dense_3 (Dense)             (None, 96)                4214880   \n",
      "                                                                 \n",
      " dense_4 (Dense)             (None, 64)                6208      \n",
      "                                                                 \n",
      " dense_5 (Dense)             (None, 1)                 65        \n",
      "                                                                 \n",
      "=================================================================\n",
      "Total params: 4934817 (18.82 MB)\n",
      "Trainable params: 4934817 (18.82 MB)\n",
      "Non-trainable params: 0 (0.00 Byte)\n",
      "_________________________________________________________________\n"
     ]
    }
   ],
   "source": [
    "import tempfile\n",
    "import tensorflow as tf\n",
    "from tensorflow.keras.layers import Conv2D, MaxPooling2D, Flatten, Dense\n",
    "from tensorflow.keras import Sequential\n",
    "from kerastuner.tuners import BayesianOptimization\n",
    "\n",
    "def build_model(hp):\n",
    "    model = Sequential([\n",
    "        Conv2D(hp.Int('conv_1_filters', min_value=32, max_value=128, step=32), (3, 3), activation='relu', input_shape=(128, 128, 3)),\n",
    "        MaxPooling2D((2, 2)),\n",
    "        Conv2D(hp.Int('conv_2_filters', min_value=64, max_value=256, step=32), (3, 3), activation='relu'),\n",
    "        MaxPooling2D((2, 2)),\n",
    "        Conv2D(hp.Int('conv_3_filters', min_value=128, max_value=512, step=32), (3, 3), activation='relu'),\n",
    "        MaxPooling2D((2, 2)),\n",
    "        Flatten(),\n",
    "        Dense(hp.Int('dense_1_units', min_value=32, max_value=128, step=32), activation='relu'),\n",
    "        Dense(hp.Int('dense_2_units', min_value=16, max_value=64, step=16), activation='relu'),\n",
    "        Dense(1, activation='sigmoid')\n",
    "    ])\n",
    "\n",
    "    model.compile(optimizer='adam',\n",
    "                  loss='binary_crossentropy',\n",
    "                  metrics=['accuracy'])\n",
    "    return model\n",
    "\n",
    "with tempfile.TemporaryDirectory() as tmp_dir:\n",
    "    tuner = BayesianOptimization(\n",
    "        build_model,\n",
    "        objective='val_accuracy',\n",
    "        max_trials=10,\n",
    "        executions_per_trial=1,\n",
    "        directory=tmp_dir,  # Use the temporary directory\n",
    "        project_name='bayesian_optimization'\n",
    "    )\n",
    "\n",
    "tuner.search(X_train, y_train, epochs=10, validation_data=(X_val, y_val))\n",
    "\n",
    "best_hps = tuner.get_best_hyperparameters(num_trials=1)[0]\n",
    "\n",
    "model = build_model(best_hps)\n",
    "model.summary()\n"
   ]
  },
  {
   "cell_type": "code",
   "execution_count": 17,
   "id": "b74b9549-fb00-44cb-87cd-20f0eb6df697",
   "metadata": {},
   "outputs": [
    {
     "name": "stdout",
     "output_type": "stream",
     "text": [
      "\n",
      "Best hyperparameters found: \n",
      "- First Conv2D filters: 96\n",
      "- Second Conv2D filters: 160\n",
      "- Third Conv2D filters: 256\n",
      "- First Dense layer units: 32\n",
      "- Second Dense layer units: 32\n",
      "\n"
     ]
    }
   ],
   "source": [
    "# Assuming the tuner has completed its search\n",
    "best_hps = tuner.get_best_hyperparameters(num_trials=1)[0]\n",
    "\n",
    "# Print the best number of units in the dense layers and the best number of filters in the Conv2D layers\n",
    "print(f\"\"\"\n",
    "Best hyperparameters found: \n",
    "- First Conv2D filters: {best_hps.get('conv_1_filters')}\n",
    "- Second Conv2D filters: {best_hps.get('conv_2_filters')}\n",
    "- Third Conv2D filters: {best_hps.get('conv_3_filters')}\n",
    "- First Dense layer units: {best_hps.get('dense_1_units')}\n",
    "- Second Dense layer units: {best_hps.get('dense_2_units')}\n",
    "\"\"\")"
   ]
  },
  {
   "cell_type": "code",
   "execution_count": null,
   "id": "023157e6-4f0f-4811-8803-f13791838a72",
   "metadata": {},
   "outputs": [],
   "source": []
  }
 ],
 "metadata": {
  "kernelspec": {
   "display_name": "Python 3 (ipykernel)",
   "language": "python",
   "name": "python3"
  },
  "language_info": {
   "codemirror_mode": {
    "name": "ipython",
    "version": 3
   },
   "file_extension": ".py",
   "mimetype": "text/x-python",
   "name": "python",
   "nbconvert_exporter": "python",
   "pygments_lexer": "ipython3",
   "version": "3.10.11"
  }
 },
 "nbformat": 4,
 "nbformat_minor": 5
}
