{
 "cells": [
  {
   "cell_type": "markdown",
   "id": "1bdf5f39-7c9d-4ba5-969d-457a10bea764",
   "metadata": {},
   "source": [
    "# Multiclass Data => probability of belonging to that class"
   ]
  },
  {
   "cell_type": "markdown",
   "id": "9600e358-6080-4a07-bec0-e7cd1c19a67d",
   "metadata": {},
   "source": [
    "### 랜덤 데이터 생성"
   ]
  },
  {
   "cell_type": "code",
   "execution_count": 7,
   "id": "991dced9-024a-4c9f-9593-df922efdecb9",
   "metadata": {},
   "outputs": [
    {
     "name": "stdout",
     "output_type": "stream",
     "text": [
      "Shape of data: (400, 25, 25, 3)\n",
      "Shape of labels: (400, 4)\n",
      "labels [[1 0 0 0]\n",
      " [1 0 0 0]\n",
      " [1 0 0 0]\n",
      " ...\n",
      " [0 0 0 1]\n",
      " [0 0 0 1]\n",
      " [0 0 0 1]]\n"
     ]
    }
   ],
   "source": [
    "import numpy as np\n",
    "\n",
    "np.random.seed(0)\n",
    "# 데이터 생성\n",
    "s0 = np.random.uniform(0, 0.25, size=(100, 25, 25, 3))\n",
    "s1 = np.random.uniform(0.25, 0.5, size=(100, 25, 25, 3))\n",
    "s2 = np.random.uniform(0.5, 0.75, size=(100, 25, 25, 3))\n",
    "s3 = np.random.uniform(0.75, 1, size=(100, 25, 25, 3))\n",
    "\n",
    "# 레이블 생성\n",
    "l0 = np.array([1, 0, 0, 0])\n",
    "l1 = np.array([0, 1, 0, 0])\n",
    "l2 = np.array([0, 0, 1, 0])\n",
    "l3 = np.array([0, 0, 0, 1])\n",
    "\n",
    "# 데이터 합치기\n",
    "data = np.vstack((s0, s1, s2, s3))  # 데이터를 수직으로 쌓기\n",
    "\n",
    "# 레이블 합치기 (데이터 개수와 일치하도록 반복하여 추가)\n",
    "labels = np.concatenate([np.tile(l0, (100, 1)), np.tile(l1, (100, 1)), np.tile(l2, (100, 1)), np.tile(l3, (100, 1))])\n",
    "\n",
    "print(\"Shape of data:\", data.shape)\n",
    "print(\"Shape of labels:\", labels.shape)\n",
    "print(f'labels {labels}')"
   ]
  },
  {
   "cell_type": "markdown",
   "id": "485548ae-d30b-4a6c-8bd9-df0a302b0f14",
   "metadata": {},
   "source": [
    "## 시각화"
   ]
  },
  {
   "cell_type": "code",
   "execution_count": 5,
   "id": "4c994ea6-8601-4377-9b74-39bd648564f1",
   "metadata": {},
   "outputs": [
    {
     "data": {
      "image/png": "[encoded data removed]",
      "text/plain": [
       "<Figure size 1200x300 with 4 Axes>"
      ]
     },
     "metadata": {},
     "output_type": "display_data"
    }
   ],
   "source": [
    "\n",
    "import matplotlib.pyplot as plt\n",
    "\n",
    "plt.figure(figsize=(12, 3))\n",
    "\n",
    "\n",
    "plt.subplot(1, 4, 1)\n",
    "plt.imshow(s0[0])\n",
    "plt.axis('off')\n",
    "plt.title('s0')\n",
    "\n",
    "plt.subplot(1, 4, 2)\n",
    "plt.imshow(s1[0])\n",
    "plt.axis('off')\n",
    "plt.title('s1')\n",
    "\n",
    "\n",
    "plt.subplot(1, 4, 3)\n",
    "plt.imshow(s2[0])\n",
    "plt.axis('off')\n",
    "plt.title('s2')\n",
    "\n",
    "\n",
    "plt.subplot(1, 4, 4)\n",
    "plt.imshow(s3[0])\n",
    "plt.axis('off')\n",
    "plt.title('s3')\n",
    "\n",
    "plt.tight_layout()\n",
    "plt.show()\n"
   ]
  },
  {
   "cell_type": "markdown",
   "id": "70e7ef49-8c98-4156-a0d6-f690e51f457b",
   "metadata": {},
   "source": [
    "## 모델 설계"
   ]
  },
  {
   "cell_type": "code",
   "execution_count": 9,
   "id": "8af94ebd-718b-4a35-9b45-b3ce405a2254",
   "metadata": {},
   "outputs": [
    {
     "name": "stdout",
     "output_type": "stream",
     "text": [
      "Model: \"sequential_1\"\n",
      "_________________________________________________________________\n",
      " Layer (type)                Output Shape              Param #   \n",
      "=================================================================\n",
      " conv2d_3 (Conv2D)           (None, 23, 23, 32)        896       \n",
      "                                                                 \n",
      " max_pooling2d_3 (MaxPoolin  (None, 11, 11, 32)        0         \n",
      " g2D)                                                            \n",
      "                                                                 \n",
      " conv2d_4 (Conv2D)           (None, 9, 9, 64)          18496     \n",
      "                                                                 \n",
      " max_pooling2d_4 (MaxPoolin  (None, 4, 4, 64)          0         \n",
      " g2D)                                                            \n",
      "                                                                 \n",
      " conv2d_5 (Conv2D)           (None, 2, 2, 128)         73856     \n",
      "                                                                 \n",
      " max_pooling2d_5 (MaxPoolin  (None, 1, 1, 128)         0         \n",
      " g2D)                                                            \n",
      "                                                                 \n",
      " flatten_1 (Flatten)         (None, 128)               0         \n",
      "                                                                 \n",
      " dense_2 (Dense)             (None, 128)               16512     \n",
      "                                                                 \n",
      " dense_3 (Dense)             (None, 4)                 516       \n",
      "                                                                 \n",
      "=================================================================\n",
      "Total params: 110276 (430.77 KB)\n",
      "Trainable params: 110276 (430.77 KB)\n",
      "Non-trainable params: 0 (0.00 Byte)\n",
      "_________________________________________________________________\n"
     ]
    }
   ],
   "source": [
    "import tensorflow as tf\n",
    "from tensorflow.keras.models import Sequential\n",
    "from tensorflow.keras.layers import Conv2D, MaxPooling2D, Flatten, Dense\n",
    "\n",
    "model = Sequential([\n",
    "    Conv2D(32, (3, 3), activation='relu', input_shape=(25, 25, 3)),\n",
    "    MaxPooling2D((2, 2)),\n",
    "    Conv2D(64, (3, 3), activation='relu'),\n",
    "    MaxPooling2D((2, 2)),\n",
    "    Conv2D(128, (3, 3), activation='relu'),\n",
    "    MaxPooling2D((2, 2)),\n",
    "    Flatten(),\n",
    "    Dense(128, activation='relu'),\n",
    "    Dense(4, activation='sigmoid')\n",
    "])\n",
    "\n",
    "model.compile(optimizer='adam', loss='binary_crossentropy', metrics=['accuracy'])\n",
    "model.summary()"
   ]
  },
  {
   "cell_type": "code",
   "execution_count": 12,
   "id": "7dbe675e-d933-4dab-992b-8def4208e342",
   "metadata": {},
   "outputs": [
    {
     "name": "stdout",
     "output_type": "stream",
     "text": [
      "Epoch 1/10\n",
      "13/13 [==============================] - 0s 9ms/step - loss: 0.5167 - accuracy: 0.3475\n",
      "Epoch 2/10\n",
      "13/13 [==============================] - 0s 8ms/step - loss: 0.3917 - accuracy: 0.5400\n",
      "Epoch 3/10\n",
      "13/13 [==============================] - 0s 8ms/step - loss: 0.2226 - accuracy: 0.8900\n",
      "Epoch 4/10\n",
      "13/13 [==============================] - 0s 8ms/step - loss: 0.0848 - accuracy: 1.0000\n",
      "Epoch 5/10\n",
      "13/13 [==============================] - 0s 8ms/step - loss: 0.0152 - accuracy: 1.0000\n",
      "Epoch 6/10\n",
      "13/13 [==============================] - 0s 8ms/step - loss: 0.0024 - accuracy: 1.0000\n",
      "Epoch 7/10\n",
      "13/13 [==============================] - 0s 9ms/step - loss: 8.3474e-04 - accuracy: 1.0000\n",
      "Epoch 8/10\n",
      "13/13 [==============================] - 0s 10ms/step - loss: 4.9270e-04 - accuracy: 1.0000\n",
      "Epoch 9/10\n",
      "13/13 [==============================] - 0s 9ms/step - loss: 3.6103e-04 - accuracy: 1.0000\n",
      "Epoch 10/10\n",
      "13/13 [==============================] - 0s 8ms/step - loss: 3.0037e-04 - accuracy: 1.0000\n"
     ]
    },
    {
     "data": {
      "text/plain": [
       "<keras.src.callbacks.History at 0x1b7e5a09c50>"
      ]
     },
     "execution_count": 12,
     "metadata": {},
     "output_type": "execute_result"
    }
   ],
   "source": [
    "model.fit(data, labels, epochs = 10, batch_size = 32)"
   ]
  },
  {
   "cell_type": "code",
   "execution_count": null,
   "id": "fcc1b31f-f1b6-49db-95fc-d0ee4e668342",
   "metadata": {},
   "outputs": [],
   "source": []
  }
 ],
 "metadata": {
  "kernelspec": {
   "display_name": "Python 3 (ipykernel)",
   "language": "python",
   "name": "python3"
  },
  "language_info": {
   "codemirror_mode": {
    "name": "ipython",
    "version": 3
   },
   "file_extension": ".py",
   "mimetype": "text/x-python",
   "name": "python",
   "nbconvert_exporter": "python",
   "pygments_lexer": "ipython3",
   "version": "3.11.5"
  }
 },
 "nbformat": 4,
 "nbformat_minor": 5
}
