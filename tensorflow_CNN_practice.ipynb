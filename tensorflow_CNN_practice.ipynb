{
 "cells": [
  {
   "cell_type": "markdown",
   "id": "915f8427-2f2d-441f-b2b0-1642c669529e",
   "metadata": {},
   "source": [
    "# Numpy 배열을 입력으로 하는 CNN 예제"
   ]
  },
  {
   "cell_type": "markdown",
   "id": "f8b51c76-ed7e-4f5c-9e31-d6d89e0b22ad",
   "metadata": {},
   "source": [
    "## 데이터 셋 생성\n",
    "### 28*28 사이즈의 RGB 3채녈 100장 (0.5 ~ 1.0) vs ''(0 ~ 0.5) vs ''(0.0 ~ 1.0)"
   ]
  },
  {
   "cell_type": "markdown",
   "id": "4a23f1ae-0dd7-4dcf-a600-eb463cf3fb49",
   "metadata": {},
   "source": [
    "##### 이미지는 RGB 3채널 => 각 채널의 2차원 배열이 3장 겹쳐서 보여지는 형태"
   ]
  },
  {
   "cell_type": "code",
   "execution_count": 2,
   "id": "44cd50d6-8333-48cd-bd0f-936bf379ef11",
   "metadata": {},
   "outputs": [],
   "source": [
    "import tensorflow as tf\n",
    "import numpy as np\n",
    "import matplotlib.pyplot as plt"
   ]
  },
  {
   "cell_type": "markdown",
   "id": "3025fe34-d86c-4d7e-8955-a1ce272d8f3b",
   "metadata": {},
   "source": [
    "##### 28 * 28 * 3 의 3차원 배열 생성 \n",
    "    sample_data_0 => 각 원소는 0.5 ~ 1.0\n",
    "    sample_data_1 => 각 원소는 0.0 ~ 0.5\n",
    "    sample_data_2 => 각 원소는 0.0 ~ 1.0"
   ]
  },
  {
   "cell_type": "code",
   "execution_count": 3,
   "id": "6faa7e02-6c3d-4f3c-a8b3-fd277150d3a8",
   "metadata": {},
   "outputs": [],
   "source": [
    "np.random.seed(0)\n",
    "\n",
    "sample_data_0 = np.random.uniform(0.5, 1.0, size=(100, 28, 28, 3))\n",
    "sample_data_1 = np.random.uniform(0.0, 0.5, size=(100, 28, 28, 3))\n",
    "sample_data_2 = np.random.uniform(0.0, 1.0, size=(100, 28, 28, 3))"
   ]
  },
  {
   "cell_type": "markdown",
   "id": "e36beb3f-71f4-4e56-9a28-68f6a611be53",
   "metadata": {},
   "source": [
    "##### => 시각화"
   ]
  },
  {
   "cell_type": "code",
   "execution_count": 4,
   "id": "8ace27ca-57a6-4223-932b-0545b2efad14",
   "metadata": {},
   "outputs": [
    {
     "data": {
      "image/png": "[encoded data removed]",
      "text/plain": [
       "<Figure size 640x480 with 1 Axes>"
      ]
     },
     "metadata": {},
     "output_type": "display_data"
    }
   ],
   "source": [
    "# sample_data_0의 첫번째 그림\n",
    "\n",
    "plt.imshow(sample_data_0[0])\n",
    "plt.axis('off')\n",
    "plt.show()"
   ]
  },
  {
   "cell_type": "code",
   "execution_count": 5,
   "id": "0a5d8278-5266-4bf0-b1e8-25f36845e5a9",
   "metadata": {},
   "outputs": [
    {
     "data": {
      "image/png": "[encoded data removed]",
      "text/plain": [
       "<Figure size 640x480 with 1 Axes>"
      ]
     },
     "metadata": {},
     "output_type": "display_data"
    }
   ],
   "source": [
    "# sample_data_1의 첫번째 그림\n",
    "\n",
    "plt.imshow(sample_data_1[0])\n",
    "plt.axis('off')\n",
    "plt.show()"
   ]
  },
  {
   "cell_type": "code",
   "execution_count": 6,
   "id": "92937957-73a8-4caf-8256-bd28f6cc2556",
   "metadata": {},
   "outputs": [
    {
     "data": {
      "image/png": "[encoded data removed]",
      "text/plain": [
       "<Figure size 640x480 with 1 Axes>"
      ]
     },
     "metadata": {},
     "output_type": "display_data"
    }
   ],
   "source": [
    "# sample_data_2의 첫번째 그림\n",
    "\n",
    "plt.imshow(sample_data_2[0])\n",
    "plt.axis('off')\n",
    "plt.show()"
   ]
  },
  {
   "cell_type": "markdown",
   "id": "655c7271-905d-461d-a958-79be4e50cdb1",
   "metadata": {},
   "source": [
    "##### 셋은 명확히 다름!"
   ]
  },
  {
   "cell_type": "markdown",
   "id": "549ddfb4-2644-4cb9-a8a4-be9d383f1fc3",
   "metadata": {},
   "source": [
    "## 레이블 데이터 생성"
   ]
  },
  {
   "cell_type": "code",
   "execution_count": 7,
   "id": "516d2437",
   "metadata": {},
   "outputs": [],
   "source": [
    "labels_sample_data_0 = np.zeros((sample_data_0.shape[0],)) \n",
    "labels_sample_data_1 = np.ones((sample_data_1.shape[0],))\n",
    "labels_sample_data_2 = np.full((sample_data_2.shape[0],), 2)"
   ]
  },
  {
   "cell_type": "raw",
   "id": "d64f5e0f-8868-4b26-8278-2d137949ee23",
   "metadata": {},
   "source": [
    "# (sample_data_1.shape[0],) \n",
    "    => sample_data_1의 인덱스 0의 모양= 100\n",
    "    => (100, ) 형태의 np배열을 생성\n",
    "    \n",
    "# (100, ) vs (100, 1)\n",
    "    => (100,): 이 형태는 크기가 100인 1차원 배열을 의미\n",
    "    => (100, 1): 이 형태는 크기가 100이고 1개의 열을 가진 2차원 배열\n",
    "    => 레이블은 1차원 배열!"
   ]
  },
  {
   "cell_type": "markdown",
   "id": "3a1e845e-0727-4b2c-a7f9-9d1694d4424b",
   "metadata": {},
   "source": [
    "### 데이터셋 형성\n",
    "##### 신경망 입력으로 사용될 데이터로 바꾸기"
   ]
  },
  {
   "cell_type": "code",
   "execution_count": 8,
   "id": "0b30f81f-3448-4f63-81bc-2bc5c1aae332",
   "metadata": {},
   "outputs": [
    {
     "data": {
      "text/plain": [
       "(300, 28, 28, 3)"
      ]
     },
     "execution_count": 8,
     "metadata": {},
     "output_type": "execute_result"
    }
   ],
   "source": [
    "input_data = np.concatenate((sample_data_0, sample_data_1, sample_data_2), axis = 0)\n",
    "# axis = 0 으로 concatenate \n",
    "input_data.shape"
   ]
  },
  {
   "cell_type": "code",
   "execution_count": 9,
   "id": "30ea9241-90d2-4b18-9a83-55bbe764af78",
   "metadata": {},
   "outputs": [
    {
     "data": {
      "text/plain": [
       "(300,)"
      ]
     },
     "execution_count": 9,
     "metadata": {},
     "output_type": "execute_result"
    }
   ],
   "source": [
    "input_labels = np.concatenate((labels_sample_data_0, labels_sample_data_1,labels_sample_data_2), axis = 0 )\n",
    "# axis = 0 으로 concatenate \n",
    "input_labels.shape"
   ]
  },
  {
   "cell_type": "markdown",
   "id": "05d14e4b-caf6-4c8a-931b-587517ff71c0",
   "metadata": {},
   "source": [
    "### 모델 만들기"
   ]
  },
  {
   "cell_type": "code",
   "execution_count": 10,
   "id": "fe352416-9ddb-4d13-be3a-f73906f452ea",
   "metadata": {},
   "outputs": [],
   "source": [
    "model = tf.keras.Sequential([\n",
    "    tf.keras.layers.Conv2D(32, (3, 3), activation='relu', input_shape=(28, 28, 3)),\n",
    "    tf.keras.layers.MaxPooling2D((2, 2)),\n",
    "    tf.keras.layers.Conv2D(64, (3, 3), activation='relu'),\n",
    "    tf.keras.layers.MaxPooling2D((2, 2)),\n",
    "    tf.keras.layers.Conv2D(64, (3, 3), activation='relu'),\n",
    "    tf.keras.layers.Flatten(),\n",
    "    tf.keras.layers.Dense(64, activation='relu'),\n",
    "    tf.keras.layers.Dense(3, activation='softmax')\n",
    "])\n",
    "\n",
    "# 데이터는 다중 클래스(3 클래스) => 마지막 Dense 충의 뉴런은 3개!"
   ]
  },
  {
   "cell_type": "markdown",
   "id": "ed5c747e-a964-49d3-9a2c-3c99986c2589",
   "metadata": {},
   "source": [
    "##### 모델 summary로 확인"
   ]
  },
  {
   "cell_type": "code",
   "execution_count": 11,
   "id": "d6cfbddf-a405-458d-9081-e4a8cc9b6f6a",
   "metadata": {},
   "outputs": [
    {
     "name": "stdout",
     "output_type": "stream",
     "text": [
      "Model: \"sequential\"\n",
      "_________________________________________________________________\n",
      " Layer (type)                Output Shape              Param #   \n",
      "=================================================================\n",
      " conv2d (Conv2D)             (None, 26, 26, 32)        896       \n",
      "                                                                 \n",
      " max_pooling2d (MaxPooling2D  (None, 13, 13, 32)       0         \n",
      " )                                                               \n",
      "                                                                 \n",
      " conv2d_1 (Conv2D)           (None, 11, 11, 64)        18496     \n",
      "                                                                 \n",
      " max_pooling2d_1 (MaxPooling  (None, 5, 5, 64)         0         \n",
      " 2D)                                                             \n",
      "                                                                 \n",
      " conv2d_2 (Conv2D)           (None, 3, 3, 64)          36928     \n",
      "                                                                 \n",
      " flatten (Flatten)           (None, 576)               0         \n",
      "                                                                 \n",
      " dense (Dense)               (None, 64)                36928     \n",
      "                                                                 \n",
      " dense_1 (Dense)             (None, 3)                 195       \n",
      "                                                                 \n",
      "=================================================================\n",
      "Total params: 93,443\n",
      "Trainable params: 93,443\n",
      "Non-trainable params: 0\n",
      "_________________________________________________________________\n"
     ]
    }
   ],
   "source": [
    "model.summary()"
   ]
  },
  {
   "cell_type": "markdown",
   "id": "15c49c3b-756e-4c2e-a07f-b82eef58119f",
   "metadata": {},
   "source": [
    "#### 모델 컴파일 \n",
    "##### 옵티마이저 => adam\n",
    "##### 손실 함수 => sparse_categorical_crossentropy\n",
    "##### 모델 평가 지표 => 정확도를 산출"
   ]
  },
  {
   "cell_type": "code",
   "execution_count": 12,
   "id": "08fa4ba1-812f-4e72-a021-de85d4e76e81",
   "metadata": {},
   "outputs": [],
   "source": [
    "model.compile(optimizer='adam',\n",
    "              loss='sparse_categorical_crossentropy',\n",
    "              metrics=['accuracy'])"
   ]
  },
  {
   "cell_type": "markdown",
   "id": "306e260f-8a3c-42eb-9bd4-9b08375f0195",
   "metadata": {},
   "source": [
    "#### 모델 훈련"
   ]
  },
  {
   "cell_type": "code",
   "execution_count": 13,
   "id": "ac7fa0e9-1980-4d4c-9c37-ab312a980987",
   "metadata": {},
   "outputs": [
    {
     "name": "stdout",
     "output_type": "stream",
     "text": [
      "Epoch 1/5\n",
      "10/10 [==============================] - 1s 23ms/step - loss: 0.8885 - accuracy: 0.6233\n",
      "Epoch 2/5\n",
      "10/10 [==============================] - 0s 22ms/step - loss: 0.4053 - accuracy: 0.7167\n",
      "Epoch 3/5\n",
      "10/10 [==============================] - 0s 23ms/step - loss: 0.2170 - accuracy: 0.9300\n",
      "Epoch 4/5\n",
      "10/10 [==============================] - 0s 20ms/step - loss: 0.0769 - accuracy: 0.9967\n",
      "Epoch 5/5\n",
      "10/10 [==============================] - 0s 21ms/step - loss: 0.0130 - accuracy: 1.0000\n"
     ]
    },
    {
     "data": {
      "text/plain": [
       "<keras.callbacks.History at 0x1c03938fd30>"
      ]
     },
     "execution_count": 13,
     "metadata": {},
     "output_type": "execute_result"
    }
   ],
   "source": [
    "model.fit(input_data, input_labels, epochs = 5, batch_size = 32)"
   ]
  },
  {
   "cell_type": "markdown",
   "id": "a803106c-9c2e-4f2c-9141-0a26f6cf63bf",
   "metadata": {},
   "source": [
    "### 훈련 데이터에 대해서 이제 100퍼센트 분류함!"
   ]
  },
  {
   "cell_type": "markdown",
   "id": "a7c8adf2-bc89-4d52-ba09-dc9d6e544e74",
   "metadata": {},
   "source": [
    "## 새로운 데이터 넣어서 산출 값 확인하기"
   ]
  },
  {
   "cell_type": "code",
   "execution_count": 14,
   "id": "92325fd4-a1be-43f5-89c6-8498481e7ab1",
   "metadata": {},
   "outputs": [],
   "source": [
    "new_data = np.random.rand(1, 28, 28, 3)"
   ]
  },
  {
   "cell_type": "markdown",
   "id": "1c6c8a37-1379-4730-9df4-da5ccf2df4ed",
   "metadata": {},
   "source": [
    "##### 모델의 입력으로서 전달하기 위해선 배치 차원이 있어야함.\n",
    "##### => (배치, 높이, 너비, 채널) 형태의 입력을 항상 유지\n",
    "    sample_data_0 => 각 원소는 0.5 ~ 1.0 => 밝고 흐릿함\n",
    "    sample_data_1 => 각 원소는 0.0 ~ 0.5 => 어둡고 흐릿함\n",
    "    sample_data_2 => 각 원소는 0.0 ~ 1.0 => 전체적으로 쨍함"
   ]
  },
  {
   "cell_type": "markdown",
   "id": "ce0083c6-4345-4a42-bdab-8cb8a741f593",
   "metadata": {},
   "source": [
    "##### 시각화"
   ]
  },
  {
   "cell_type": "code",
   "execution_count": 15,
   "id": "24fe7a20-0074-4cea-8a68-ab18d9165991",
   "metadata": {},
   "outputs": [
    {
     "data": {
      "image/png": "[encoded data removed]",
      "text/plain": [
       "<Figure size 640x480 with 1 Axes>"
      ]
     },
     "metadata": {},
     "output_type": "display_data"
    }
   ],
   "source": [
    "plt.imshow(new_data[0])\n",
    "plt.axis('off')\n",
    "plt.show()"
   ]
  },
  {
   "cell_type": "markdown",
   "id": "16275618-8942-49db-ac65-a286dbab83ae",
   "metadata": {},
   "source": [
    "### 모델에 새로운 데이터를 통과"
   ]
  },
  {
   "cell_type": "code",
   "execution_count": 16,
   "id": "a83f96ba-c392-4ae5-ba2e-aad3c8a35442",
   "metadata": {},
   "outputs": [
    {
     "name": "stdout",
     "output_type": "stream",
     "text": [
      "1/1 [==============================] - 0s 124ms/step\n"
     ]
    },
    {
     "data": {
      "text/plain": [
       "array([[8.5611956e-04, 9.4348448e-05, 9.9904948e-01]], dtype=float32)"
      ]
     },
     "execution_count": 16,
     "metadata": {},
     "output_type": "execute_result"
    }
   ],
   "source": [
    "prediction = model.predict(new_data)\n",
    "prediction"
   ]
  },
  {
   "cell_type": "markdown",
   "id": "022147a3-a52b-4707-849a-2ca4ea2885a7",
   "metadata": {
    "tags": []
   },
   "source": [
    "##### 인덱스 2의 값이 제일 높음 => 레이블 2로 분류할 것!\n",
    "#### 예측 결과 출력"
   ]
  },
  {
   "cell_type": "code",
   "execution_count": 17,
   "id": "09474990-a3c5-4b65-abc8-a8ec0ae51bea",
   "metadata": {},
   "outputs": [
    {
     "name": "stdout",
     "output_type": "stream",
     "text": [
      "Predicted class: 2\n"
     ]
    }
   ],
   "source": [
    "predicted_class = np.argmax(prediction)\n",
    "print(f\"Predicted class: {predicted_class}\")"
   ]
  },
  {
   "cell_type": "markdown",
   "id": "b0fcb867-d4f6-4b13-83b2-ee2f3dfbf254",
   "metadata": {},
   "source": [
    "## 새로운 데이터 2\n",
    "#### 이번엔 0.3 ~ 0.8\n",
    "    sample_data_0 => 각 원소는 0.5 ~ 1.0 => 밝고 흐릿함\n",
    "    sample_data_1 => 각 원소는 0.0 ~ 0.5 => 어둡고 흐릿함\n",
    "    sample_data_2 => 각 원소는 0.0 ~ 1.0 => 전체적으로 쨍함"
   ]
  },
  {
   "cell_type": "code",
   "execution_count": 29,
   "id": "c615db4a-7b8d-4468-ad01-6eb0d6d9ff09",
   "metadata": {},
   "outputs": [],
   "source": [
    "new_data_2 = np.random.uniform(0.3, 0.8, size = (1,28,28,3))"
   ]
  },
  {
   "cell_type": "code",
   "execution_count": 30,
   "id": "be90d78d-b3f1-483b-a09b-98507202c5b1",
   "metadata": {},
   "outputs": [
    {
     "data": {
      "image/png": "[encoded data removed]",
      "text/plain": [
       "<Figure size 640x480 with 1 Axes>"
      ]
     },
     "metadata": {},
     "output_type": "display_data"
    }
   ],
   "source": [
    "plt.imshow(new_data_2[0])\n",
    "plt.axis('off')\n",
    "plt.show()"
   ]
  },
  {
   "cell_type": "code",
   "execution_count": 31,
   "id": "5ef0fe9d-a172-4740-904c-36678c4cbf65",
   "metadata": {},
   "outputs": [
    {
     "name": "stdout",
     "output_type": "stream",
     "text": [
      "1/1 [==============================] - 0s 22ms/step\n"
     ]
    },
    {
     "data": {
      "text/plain": [
       "array([[9.9999070e-01, 9.2457305e-14, 9.3447406e-06]], dtype=float32)"
      ]
     },
     "execution_count": 31,
     "metadata": {},
     "output_type": "execute_result"
    }
   ],
   "source": [
    "prediction = model.predict(new_data_2)\n",
    "prediction"
   ]
  },
  {
   "cell_type": "code",
   "execution_count": 32,
   "id": "05fb0307-fcf8-4bff-be9c-53a88ecd9692",
   "metadata": {},
   "outputs": [
    {
     "name": "stdout",
     "output_type": "stream",
     "text": [
      "predicted_class : 0\n"
     ]
    }
   ],
   "source": [
    "predicted_class = np.argmax(prediction)\n",
    "print(f'predicted_class : {predicted_class}')"
   ]
  },
  {
   "cell_type": "markdown",
   "id": "bc8bfae5-168c-42ec-ab24-ace69e7cd09f",
   "metadata": {},
   "source": [
    "##### 이건 0번으로 예측함"
   ]
  },
  {
   "cell_type": "markdown",
   "id": "79930ffa-de36-44c3-9293-376866a7334f",
   "metadata": {},
   "source": [
    "#### SOFTMAX 함수의 결과를 시각화하여 확인"
   ]
  },
  {
   "cell_type": "code",
   "execution_count": 33,
   "id": "924e04a5-0b3f-49d0-ba8c-830c8a4e7f65",
   "metadata": {},
   "outputs": [
    {
     "data": {
      "image/png": "[encoded data removed]",
      "text/plain": [
       "<Figure size 640x480 with 1 Axes>"
      ]
     },
     "metadata": {},
     "output_type": "display_data"
    }
   ],
   "source": [
    "plt.bar(range(len(prediction[0])), prediction[0])\n",
    "plt.show()"
   ]
  },
  {
   "cell_type": "markdown",
   "id": "7d19c946-8cf4-42fb-b0e0-28a76b9e0df1",
   "metadata": {},
   "source": [
    "##### 확률이 너무 높게 나왔네... \n",
    "##### 0.3 ~ 0.8 이라면 그래도 레이블 1이나 2를 어느정도 포함해야한다는건데..."
   ]
  },
  {
   "cell_type": "markdown",
   "id": "f4dca4dd-67f3-45bd-9f75-3c6a14e5d849",
   "metadata": {},
   "source": [
    "### 새로운 데이터 3"
   ]
  },
  {
   "cell_type": "markdown",
   "id": "cfe5fa6e-fb09-4032-8863-e7f287ad09ea",
   "metadata": {},
   "source": [
    "##### 0.4 ~ 0.6 으로 조정\n",
    "    sample_data_0 => 각 원소는 0.5 ~ 1.0 => 밝고 흐릿함\n",
    "    sample_data_1 => 각 원소는 0.0 ~ 0.5 => 어둡고 흐릿함\n",
    "    sample_data_1 => 각 원소는 0.0 ~ 1.0 => 전체적으로 쨍함"
   ]
  },
  {
   "cell_type": "code",
   "execution_count": 8,
   "id": "ee7cf249-5625-4699-a58d-eb3ad049c3c6",
   "metadata": {},
   "outputs": [
    {
     "data": {
      "image/png": "[encoded data removed]",
      "text/plain": [
       "<Figure size 640x480 with 1 Axes>"
      ]
     },
     "metadata": {},
     "output_type": "display_data"
    }
   ],
   "source": [
    "new_data_3 = np.random.uniform(0.4, 0.6, size = (1,28,28,3))\n",
    "plt.imshow(new_data_3[0])\n",
    "plt.axis('off')\n",
    "plt.show()"
   ]
  },
  {
   "cell_type": "code",
   "execution_count": 9,
   "id": "48812625-d3f2-41c9-9501-75094cddd83f",
   "metadata": {},
   "outputs": [
    {
     "name": "stdout",
     "output_type": "stream",
     "text": [
      "1/1 [==============================] - 0s 158ms/step\n",
      "prediction : [[0.99983144 0.00106064 0.54316   ]]\n",
      "predicted_class : 0\n"
     ]
    }
   ],
   "source": [
    "prediction = model.predict(new_data_3)\n",
    "predicted_class = np.argmax(prediction)\n",
    "print(f'prediction : {prediction}')\n",
    "print(f'predicted_class : {predicted_class}')"
   ]
  },
  {
   "cell_type": "code",
   "execution_count": 10,
   "id": "5363dd43-c748-47e9-9a3c-626ff5aab027",
   "metadata": {},
   "outputs": [
    {
     "data": {
      "image/png": "[encoded data removed]",
      "text/plain": [
       "<Figure size 640x480 with 1 Axes>"
      ]
     },
     "metadata": {},
     "output_type": "display_data"
    }
   ],
   "source": [
    "plt.bar(range(len(prediction[0])), prediction[0])\n",
    "plt.show()"
   ]
  },
  {
   "cell_type": "markdown",
   "id": "f59d31db-9dd7-404e-b59e-bc6ca18d1da5",
   "metadata": {},
   "source": [
    "##### 0.4 ~ 0.6이면 애매한 출력을 기대했는데, 애매한 출력이 나오지 않는다. 어떻게 하면 좋을까?"
   ]
  },
  {
   "cell_type": "markdown",
   "id": "9004dd82-1c24-451b-8fba-c9653ea7540b",
   "metadata": {},
   "source": [
    "# 모델 2"
   ]
  },
  {
   "cell_type": "markdown",
   "id": "d472f2c5-17c4-46a8-844b-c1994a4d073f",
   "metadata": {},
   "source": [
    "##### 마지막 층 softmax => sigmoid"
   ]
  },
  {
   "cell_type": "code",
   "execution_count": 4,
   "id": "e623aaa8-63d8-429c-8fdb-d5b296117087",
   "metadata": {},
   "outputs": [],
   "source": [
    "import tensorflow as tf\n",
    "import numpy as np\n",
    "import matplotlib.pyplot as plt"
   ]
  },
  {
   "cell_type": "code",
   "execution_count": 18,
   "id": "17534e72-33b9-447a-a0cd-ff5a148164b9",
   "metadata": {},
   "outputs": [],
   "source": [
    "# 데이터 생성\n",
    "\n",
    "np.random.seed(0)\n",
    "# 데이터\n",
    "sample_data_0 = np.random.uniform(0.5, 1.0, size=(100, 28, 28, 3))\n",
    "sample_data_1 = np.random.uniform(0.0, 0.5, size=(100, 28, 28, 3))\n",
    "sample_data_2 = np.random.uniform(0.0, 1.0, size=(100, 28, 28, 3))\n",
    "train_range_list = [[0.5,1.0],[0.0,0.5],[0.0,1.0]]\n",
    "sample_data_list = [sample_data_0,sample_data_1,sample_data_2]\n",
    "# 레이블\n",
    "labels_sample_data_0 = np.zeros((sample_data_0.shape[0],)) \n",
    "labels_sample_data_1 = np.ones((sample_data_1.shape[0],))\n",
    "labels_sample_data_2 = np.full((sample_data_2.shape[0],), 2)\n",
    "\n",
    "# input 형성\n",
    "input_data = np.concatenate((sample_data_0, sample_data_1, sample_data_2), axis = 0)\n",
    "# input label 형성\n",
    "input_labels = np.concatenate((labels_sample_data_0, labels_sample_data_1,labels_sample_data_2), axis = 0 )"
   ]
  },
  {
   "cell_type": "code",
   "execution_count": 33,
   "id": "8a9068c7-dbce-47af-8625-2e95bad498ba",
   "metadata": {},
   "outputs": [
    {
     "name": "stdout",
     "output_type": "stream",
     "text": [
      "Epoch 1/5\n",
      "10/10 [==============================] - 1s 25ms/step - loss: 1.2030 - accuracy: 0.3333\n",
      "Epoch 2/5\n",
      "10/10 [==============================] - 0s 20ms/step - loss: 1.1257 - accuracy: 0.4567\n",
      "Epoch 3/5\n",
      "10/10 [==============================] - 0s 22ms/step - loss: 0.9160 - accuracy: 0.6667\n",
      "Epoch 4/5\n",
      "10/10 [==============================] - 0s 20ms/step - loss: 0.7390 - accuracy: 0.6900\n",
      "Epoch 5/5\n",
      "10/10 [==============================] - 0s 21ms/step - loss: 0.6687 - accuracy: 0.8867\n"
     ]
    },
    {
     "data": {
      "text/plain": [
       "<keras.callbacks.History at 0x242e3ef4be0>"
      ]
     },
     "execution_count": 33,
     "metadata": {},
     "output_type": "execute_result"
    }
   ],
   "source": [
    "# 모델 수정\n",
    "model = tf.keras.Sequential([\n",
    "    tf.keras.layers.Conv2D(32, (3, 3), activation='relu', input_shape=(28, 28, 3)),\n",
    "    tf.keras.layers.MaxPooling2D((2, 2)),\n",
    "    tf.keras.layers.Conv2D(64, (3, 3), activation='relu'),\n",
    "    tf.keras.layers.MaxPooling2D((2, 2)),\n",
    "    tf.keras.layers.Conv2D(64, (3, 3), activation='relu'),\n",
    "    tf.keras.layers.Flatten(),\n",
    "    tf.keras.layers.Dense(64, activation='relu'),\n",
    "    tf.keras.layers.Dense(10, activation='sigmoid'),\n",
    "    tf.keras.layers.Dense(3, activation='softmax')\n",
    "])\n",
    "\n",
    "model.compile(optimizer='adam',\n",
    "              loss='sparse_categorical_crossentropy',\n",
    "              metrics=['accuracy'])\n",
    "model.fit(input_data, input_labels, epochs = 5, batch_size = 32)\n",
    "# 데이터는 다중 클래스(3 클래스) => 마지막 Dense 충의 뉴런은 3개!"
   ]
  },
  {
   "cell_type": "code",
   "execution_count": 34,
   "id": "b76c2ae5-8c01-4491-9a92-f0131d6cb94a",
   "metadata": {},
   "outputs": [
    {
     "name": "stdout",
     "output_type": "stream",
     "text": [
      "1/1 [==============================] - 0s 121ms/step\n",
      "-----prediction-----\n",
      "[[0.29335064 0.15320507 0.5534443 ]\n",
      " [0.14542699 0.4717167  0.3828563 ]\n",
      " [0.6658315  0.05743375 0.2767348 ]]\n",
      "class 0 : 0.5 ~ 1.0\n",
      "class 1 : 0.0 ~ 0.5\n",
      "class 2 : 0.0 ~ 1.0\n",
      "new_input 0 range : [0.1, 0.9]////new_input 1 range : [0.0, 0.55]////new_input 2 range : [0.35, 0.75]////"
     ]
    },
    {
     "data": {
      "image/png": "[encoded data removed]",
      "text/plain": [
       "<Figure size 640x480 with 9 Axes>"
      ]
     },
     "metadata": {},
     "output_type": "display_data"
    }
   ],
   "source": [
    "new_data_0 = np.random.uniform(0.3, 0.7, size = (1,28,28,3))\n",
    "new_data_1 = np.random.uniform(0.0, 0.55, size = (1,28,28,3))\n",
    "new_data_2 = np.random.uniform(0.4, 0.8, size = (1,28,28,3))\n",
    "\n",
    "range_list = [[0.1,0.9],[0.0,0.55],[0.35,0.75]]\n",
    "new_data_list = []\n",
    "for i in range(3):\n",
    "    new_data = np.random.uniform(range_list[i][0], range_list[i][1], size = (1,28,28,3))\n",
    "    new_data_list.append(new_data)\n",
    "new_input = np.concatenate(new_data_list, axis = 0)\n",
    "\n",
    "prediction = model.predict(new_input)\n",
    "print(f'-----prediction-----\\n{prediction}')\n",
    "\n",
    "classes = [0,1,2]\n",
    "print(f'class 0 : 0.5 ~ 1.0')\n",
    "print(f'class 1 : 0.0 ~ 0.5')\n",
    "print(f'class 2 : 0.0 ~ 1.0')\n",
    "for i in range(3):\n",
    "    print(f'new_input {i} range : {range_list[i]}', end = '////')\n",
    "for idx, arr in enumerate(prediction):\n",
    "    plt.subplot(3,3,idx + 1)\n",
    "    plt.title(f'class {idx}\\n{train_range_list[idx]}')\n",
    "    plt.imshow(sample_data_list[idx][0])\n",
    "    plt.subplot(3,3,idx + 4)\n",
    "    plt.title(f'{range_list[idx]}')\n",
    "    plt.imshow(new_input[idx])\n",
    "    plt.subplot(3,3,idx + 7)\n",
    "    plt.bar(classes, arr)\n",
    "plt.show()"
   ]
  },
  {
   "cell_type": "markdown",
   "id": "011087c6-b546-49e6-b10f-a6be9c8abc23",
   "metadata": {},
   "source": [
    "##### 얼추 원하는 결과가 나옴"
   ]
  }
 ],
 "metadata": {
  "kernelspec": {
   "display_name": "Python 3 (ipykernel)",
   "language": "python",
   "name": "python3"
  },
  "language_info": {
   "codemirror_mode": {
    "name": "ipython",
    "version": 3
   },
   "file_extension": ".py",
   "mimetype": "text/x-python",
   "name": "python",
   "nbconvert_exporter": "python",
   "pygments_lexer": "ipython3",
   "version": "3.11.5"
  }
 },
 "nbformat": 4,
 "nbformat_minor": 5
}
